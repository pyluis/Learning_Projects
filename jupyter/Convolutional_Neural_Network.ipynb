{
 "cells": [
  {
   "cell_type": "markdown",
   "metadata": {
    "colab_type": "text",
    "id": "Pf3sfwCha2U5"
   },
   "source": [
    "# Convolutional Neural Network\n",
    "\n",
    "## Importing libraries \n"
   ]
  },
  {
   "cell_type": "code",
   "execution_count": 1,
   "metadata": {
    "colab": {},
    "colab_type": "code",
    "id": "E5TW1-axbYwJ"
   },
   "outputs": [],
   "source": [
    "import tensorflow as tf \n",
    "from keras.preprocessing.image import ImageDataGenerator"
   ]
  },
  {
   "cell_type": "code",
   "execution_count": 2,
   "metadata": {
    "colab": {},
    "colab_type": "code",
    "id": "TI8kX0x2bvzh"
   },
   "outputs": [
    {
     "data": {
      "text/plain": [
       "'2.3.0'"
      ]
     },
     "execution_count": 2,
     "metadata": {},
     "output_type": "execute_result"
    }
   ],
   "source": [
    "tf.__version__"
   ]
  },
  {
   "cell_type": "markdown",
   "metadata": {
    "colab_type": "text",
    "id": "4SmYNJ8Ka152"
   },
   "source": [
    "## Preprocessing the training Test Set"
   ]
  },
  {
   "cell_type": "code",
   "execution_count": 3,
   "metadata": {
    "colab": {},
    "colab_type": "code",
    "id": "ddGTxky2MldV"
   },
   "outputs": [
    {
     "name": "stdout",
     "output_type": "stream",
     "text": [
      "Found 8000 images belonging to 2 classes.\n"
     ]
    }
   ],
   "source": [
    "train_path = r'D:\\training_set'\n",
    "test_path = r'D:\\test_set'\n",
    "\n",
    "train_datagen = ImageDataGenerator(\n",
    "    rescale=1./255,\n",
    "    shear_range=0.2,\n",
    "    zoom_range=0.2,\n",
    "    horizontal_flip=True\n",
    ")\n",
    "\n",
    "train_set = train_datagen.flow_from_directory(\n",
    "    train_path,\n",
    "    target_size=(64,64),\n",
    "    batch_size=32,\n",
    "    class_mode='binary'\n",
    ")"
   ]
  },
  {
   "cell_type": "code",
   "execution_count": 4,
   "metadata": {
    "colab": {},
    "colab_type": "code",
    "id": "K7hKoY5yuO4V"
   },
   "outputs": [
    {
     "name": "stdout",
     "output_type": "stream",
     "text": [
      "Found 2000 images belonging to 2 classes.\n"
     ]
    }
   ],
   "source": [
    "test_datagen = ImageDataGenerator(\n",
    "    rescale=1./255\n",
    ")\n",
    "test_set = test_datagen.flow_from_directory(\n",
    "    test_path,\n",
    "    target_size=(64,64),\n",
    "    batch_size=32,\n",
    "    class_mode='binary'\n",
    ")"
   ]
  },
  {
   "cell_type": "markdown",
   "metadata": {
    "colab_type": "text",
    "id": "if2uSLrhDQ9G"
   },
   "source": [
    "# Part 2 Building the CNN\n"
   ]
  },
  {
   "cell_type": "markdown",
   "metadata": {
    "colab_type": "text",
    "id": "u2bGQnqFDYd4"
   },
   "source": [
    "Intialize CNN\n"
   ]
  },
  {
   "cell_type": "code",
   "execution_count": 5,
   "metadata": {
    "colab": {
     "base_uri": "https://localhost:8080/",
     "height": 163
    },
    "colab_type": "code",
    "id": "XUqSulzyDW1P",
    "outputId": "d3016562-72f0-4c9e-c3da-a05a4b49c048"
   },
   "outputs": [],
   "source": [
    "cnn = tf.keras.models.Sequential()"
   ]
  },
  {
   "cell_type": "markdown",
   "metadata": {
    "colab_type": "text",
    "id": "JTfnKleoD3B7"
   },
   "source": [
    "Step 1: Convolution"
   ]
  },
  {
   "cell_type": "code",
   "execution_count": 7,
   "metadata": {
    "colab": {},
    "colab_type": "code",
    "id": "nnkVqaksD11x"
   },
   "outputs": [],
   "source": [
    "cnn.add(tf.keras.layers.Conv2D(filters=32, kernel_size=3,activation='relu',input_shape=[64,64,3]))"
   ]
  },
  {
   "cell_type": "markdown",
   "metadata": {
    "colab_type": "text",
    "id": "_h_9OZCe8X_q"
   },
   "source": [
    "Step 2: Pooling"
   ]
  },
  {
   "cell_type": "code",
   "execution_count": 8,
   "metadata": {
    "colab": {},
    "colab_type": "code",
    "id": "THvgCZtp8adV"
   },
   "outputs": [],
   "source": [
    "cnn.add(tf.keras.layers.MaxPool2D(pool_size=2,strides=2))"
   ]
  },
  {
   "cell_type": "markdown",
   "metadata": {
    "colab_type": "text",
    "id": "c7aFaxYoQ4PT"
   },
   "source": [
    "Add a second convolution layer "
   ]
  },
  {
   "cell_type": "code",
   "execution_count": 10,
   "metadata": {
    "colab": {},
    "colab_type": "code",
    "id": "tsrO-QNfQ2Aq"
   },
   "outputs": [],
   "source": [
    "cnn.add(tf.keras.layers.Conv2D(filters=32, kernel_size=3,activation='relu'))\n",
    "cnn.add(tf.keras.layers.MaxPool2D(pool_size=2,strides=2))"
   ]
  },
  {
   "cell_type": "markdown",
   "metadata": {
    "colab_type": "text",
    "id": "dRdQCDaXRIXH"
   },
   "source": [
    "Step 3: Flattening"
   ]
  },
  {
   "cell_type": "code",
   "execution_count": 11,
   "metadata": {
    "colab": {},
    "colab_type": "code",
    "id": "BP65mOjmRGRG"
   },
   "outputs": [],
   "source": [
    "cnn.add(tf.keras.layers.Flatten())"
   ]
  },
  {
   "cell_type": "markdown",
   "metadata": {
    "colab_type": "text",
    "id": "klvPmWx7RYkj"
   },
   "source": [
    "Step 4: Full Connection"
   ]
  },
  {
   "cell_type": "code",
   "execution_count": 12,
   "metadata": {
    "colab": {},
    "colab_type": "code",
    "id": "6Zq0IFq3RVsl"
   },
   "outputs": [],
   "source": [
    "cnn.add(tf.keras.layers.Dense(128, activation='relu'))"
   ]
  },
  {
   "cell_type": "markdown",
   "metadata": {
    "colab_type": "text",
    "id": "1dLXtVZIR3mu"
   },
   "source": [
    "Step 5: output layer"
   ]
  },
  {
   "cell_type": "code",
   "execution_count": 13,
   "metadata": {
    "colab": {},
    "colab_type": "code",
    "id": "2KYsCjFfR2aI"
   },
   "outputs": [],
   "source": [
    "cnn.add(tf.keras.layers.Dense(units=1,activation='sigmoid'))"
   ]
  },
  {
   "cell_type": "markdown",
   "metadata": {},
   "source": [
    "# Part 3 - Training the CNN"
   ]
  },
  {
   "cell_type": "markdown",
   "metadata": {},
   "source": [
    "compiling the CNN"
   ]
  },
  {
   "cell_type": "code",
   "execution_count": 14,
   "metadata": {
    "colab": {},
    "colab_type": "code",
    "id": "Pfha_Xhv1rLi"
   },
   "outputs": [],
   "source": [
    "cnn.compile(optimizer='adam', loss='binary_crossentropy',metrics=['accuracy'])"
   ]
  },
  {
   "cell_type": "markdown",
   "metadata": {},
   "source": [
    "Training the CNN on the Training set and evaluating on the Test set"
   ]
  },
  {
   "cell_type": "code",
   "execution_count": 15,
   "metadata": {},
   "outputs": [
    {
     "name": "stdout",
     "output_type": "stream",
     "text": [
      "Epoch 1/25\n",
      "250/250 [==============================] - 27s 109ms/step - loss: 0.6491 - accuracy: 0.6155 - val_loss: 0.5919 - val_accuracy: 0.6835\n",
      "Epoch 2/25\n",
      "250/250 [==============================] - 27s 108ms/step - loss: 0.5898 - accuracy: 0.6916 - val_loss: 0.5469 - val_accuracy: 0.7325\n",
      "Epoch 3/25\n",
      "250/250 [==============================] - 27s 108ms/step - loss: 0.5508 - accuracy: 0.7154 - val_loss: 0.5237 - val_accuracy: 0.7450\n",
      "Epoch 4/25\n",
      "250/250 [==============================] - 27s 109ms/step - loss: 0.5245 - accuracy: 0.7329 - val_loss: 0.4999 - val_accuracy: 0.7530\n",
      "Epoch 5/25\n",
      "250/250 [==============================] - 26s 106ms/step - loss: 0.5005 - accuracy: 0.7509 - val_loss: 0.4973 - val_accuracy: 0.7650\n",
      "Epoch 6/25\n",
      "250/250 [==============================] - 26s 106ms/step - loss: 0.4792 - accuracy: 0.7676 - val_loss: 0.4763 - val_accuracy: 0.7805\n",
      "Epoch 7/25\n",
      "250/250 [==============================] - 26s 106ms/step - loss: 0.4551 - accuracy: 0.7868 - val_loss: 0.5026 - val_accuracy: 0.7735\n",
      "Epoch 8/25\n",
      "250/250 [==============================] - 26s 106ms/step - loss: 0.4440 - accuracy: 0.7889 - val_loss: 0.4822 - val_accuracy: 0.7825\n",
      "Epoch 9/25\n",
      "250/250 [==============================] - 26s 106ms/step - loss: 0.4393 - accuracy: 0.7862 - val_loss: 0.4540 - val_accuracy: 0.7935\n",
      "Epoch 10/25\n",
      "250/250 [==============================] - 26s 106ms/step - loss: 0.4242 - accuracy: 0.7995 - val_loss: 0.4604 - val_accuracy: 0.8005\n",
      "Epoch 11/25\n",
      "250/250 [==============================] - 27s 106ms/step - loss: 0.4086 - accuracy: 0.8123 - val_loss: 0.4583 - val_accuracy: 0.8010\n",
      "Epoch 12/25\n",
      "250/250 [==============================] - 27s 106ms/step - loss: 0.3978 - accuracy: 0.8184 - val_loss: 0.4345 - val_accuracy: 0.80700.3981 - \n",
      "Epoch 13/25\n",
      "250/250 [==============================] - 27s 106ms/step - loss: 0.3832 - accuracy: 0.8290 - val_loss: 0.4357 - val_accuracy: 0.8095\n",
      "Epoch 14/25\n",
      "250/250 [==============================] - 27s 106ms/step - loss: 0.3706 - accuracy: 0.8299 - val_loss: 0.4509 - val_accuracy: 0.8030\n",
      "Epoch 15/25\n",
      "250/250 [==============================] - 27s 106ms/step - loss: 0.3690 - accuracy: 0.8320 - val_loss: 0.4338 - val_accuracy: 0.8140\n",
      "Epoch 16/25\n",
      "250/250 [==============================] - 26s 106ms/step - loss: 0.3541 - accuracy: 0.8366 - val_loss: 0.4468 - val_accuracy: 0.8125\n",
      "Epoch 17/25\n",
      "250/250 [==============================] - 26s 106ms/step - loss: 0.3327 - accuracy: 0.8531 - val_loss: 0.4636 - val_accuracy: 0.8035\n",
      "Epoch 18/25\n",
      "250/250 [==============================] - 26s 105ms/step - loss: 0.3288 - accuracy: 0.8571 - val_loss: 0.5065 - val_accuracy: 0.7940\n",
      "Epoch 19/25\n",
      "250/250 [==============================] - 26s 105ms/step - loss: 0.3172 - accuracy: 0.8611 - val_loss: 0.5078 - val_accuracy: 0.7785\n",
      "Epoch 20/25\n",
      "250/250 [==============================] - 26s 106ms/step - loss: 0.3014 - accuracy: 0.8701 - val_loss: 0.4750 - val_accuracy: 0.8050\n",
      "Epoch 21/25\n",
      "250/250 [==============================] - 26s 106ms/step - loss: 0.3014 - accuracy: 0.8675 - val_loss: 0.4518 - val_accuracy: 0.8125\n",
      "Epoch 22/25\n",
      "250/250 [==============================] - 26s 106ms/step - loss: 0.2904 - accuracy: 0.8791 - val_loss: 0.4738 - val_accuracy: 0.8110\n",
      "Epoch 23/25\n",
      "250/250 [==============================] - 27s 106ms/step - loss: 0.2748 - accuracy: 0.8825 - val_loss: 0.4921 - val_accuracy: 0.8050\n",
      "Epoch 24/25\n",
      "250/250 [==============================] - 26s 106ms/step - loss: 0.2724 - accuracy: 0.8836 - val_loss: 0.5219 - val_accuracy: 0.8070\n",
      "Epoch 25/25\n",
      "250/250 [==============================] - 26s 106ms/step - loss: 0.2551 - accuracy: 0.8917 - val_loss: 0.5626 - val_accuracy: 0.7805\n"
     ]
    },
    {
     "data": {
      "text/plain": [
       "<tensorflow.python.keras.callbacks.History at 0x2849f58db50>"
      ]
     },
     "execution_count": 15,
     "metadata": {},
     "output_type": "execute_result"
    }
   ],
   "source": [
    "cnn.fit(x=train_set, validation_data=test_set, epochs=25)"
   ]
  },
  {
   "cell_type": "markdown",
   "metadata": {},
   "source": [
    "# Part 4 - Making Single Prediction"
   ]
  },
  {
   "cell_type": "code",
   "execution_count": 20,
   "metadata": {},
   "outputs": [],
   "source": [
    "import numpy as np\n",
    "from keras.preprocessing import image\n",
    "path= r'D:\\single_prediction\\cat_or_dog_2.jpg'\n",
    "test_image=image.load_img(path, target_size=(64,64))\n",
    "test_image=image.img_to_array(test_image)\n",
    "test_image=np.expand_dims(test_image, axis=0)\n",
    "result = cnn.predict(test_image)\n",
    "train_set.class_indices\n",
    "if result[0][0]== 1:\n",
    "    prediction ='dog'\n",
    "else:\n",
    "    prediction ='cat'"
   ]
  },
  {
   "cell_type": "code",
   "execution_count": 21,
   "metadata": {},
   "outputs": [
    {
     "name": "stdout",
     "output_type": "stream",
     "text": [
      "cat\n"
     ]
    }
   ],
   "source": [
    "print(prediction)"
   ]
  },
  {
   "cell_type": "code",
   "execution_count": null,
   "metadata": {},
   "outputs": [],
   "source": []
  }
 ],
 "metadata": {
  "colab": {
   "name": "Convolutional Neural Network.ipynb",
   "provenance": []
  },
  "kernelspec": {
   "display_name": "Python 3",
   "language": "python",
   "name": "python3"
  },
  "language_info": {
   "codemirror_mode": {
    "name": "ipython",
    "version": 3
   },
   "file_extension": ".py",
   "mimetype": "text/x-python",
   "name": "python",
   "nbconvert_exporter": "python",
   "pygments_lexer": "ipython3",
   "version": "3.8.3"
  }
 },
 "nbformat": 4,
 "nbformat_minor": 1
}
